{
 "cells": [
  {
   "cell_type": "markdown",
   "metadata": {
    "colab_type": "text",
    "id": "xczV5W3jHcDG"
   },
   "source": [
    "# Introduction to Simple Linear Regression using method of Least Squares\n",
    "\n",
    "© Explore Data Science Academy"
   ]
  },
  {
   "cell_type": "markdown",
   "metadata": {
    "colab_type": "text",
    "id": "4n-6zpKvHcDL"
   },
   "source": [
    "## Learning Objectives\n",
    "In this train you will learn how to:\n",
    "\n",
    "- Gain a basic understanding of linear regression;\n",
    "- Use least squares to fit a line to existing data; and\n",
    "- Implement a linear regression model using `sklearn`."
   ]
  },
  {
   "cell_type": "markdown",
   "metadata": {
    "colab_type": "text",
    "id": "_pHDuExiHcDN"
   },
   "source": [
    "## Outline\n",
    "This train is structured as follows:\n",
    "\n",
    "- Dataset import and plotting techniques;\n",
    "- Walkthrough of regression;\n",
    "- Finding line of best fit;\n",
    "- Fitting line using least squares."
   ]
  },
  {
   "cell_type": "markdown",
   "metadata": {
    "colab_type": "text",
    "id": "-Gy-_syswGfe"
   },
   "source": [
    "## Introduction\n",
    "\n",
    "In this train, you will learn how to fit a regression line to some data. Recall that a straight line can be described using the following equation:   \n",
    "\n",
    "$$ y = a + bx$$   \n",
    "where $a$ is the intercept of the line with the y-axis, and $b$ is the gradient. Using the equation above, it would be possible to predict a value for y, for any given value of x. In this train you will learn how to fit a line to some data for the purpose of predicting values of y from values of x.     "
   ]
  },
  {
   "cell_type": "markdown",
   "metadata": {
    "colab_type": "text",
    "id": "hesQBcKbwGfg"
   },
   "source": [
    "## Importing data and plotting\n",
    "First, we will import the Python libraries which we will need to work with."
   ]
  },
  {
   "cell_type": "code",
   "execution_count": 1,
   "metadata": {
    "colab": {},
    "colab_type": "code",
    "id": "fZaHdEwfwGfi"
   },
   "outputs": [],
   "source": [
    "import numpy as np\n",
    "import pandas as pd\n",
    "import matplotlib.pyplot as plt\n",
    "from matplotlib import rc"
   ]
  },
  {
   "cell_type": "markdown",
   "metadata": {
    "colab_type": "text",
    "id": "lQVWcdc-wGfn"
   },
   "source": [
    "**Next** we will load our data as a Pandas DataFrame."
   ]
  },
  {
   "cell_type": "code",
   "execution_count": 2,
   "metadata": {
    "colab": {},
    "colab_type": "code",
    "id": "CRjuWP__wGfo"
   },
   "outputs": [],
   "source": [
    "df = pd.read_csv('https://github.com/Explore-AI/Public-Data/blob/master/exports%20ZAR-USD-data.csv?raw=true', index_col=0)"
   ]
  },
  {
   "cell_type": "code",
   "execution_count": 5,
   "metadata": {
    "colab": {
     "base_uri": "https://localhost:8080/",
     "height": 359
    },
    "colab_type": "code",
    "id": "54sTKsLLwGfr",
    "outputId": "779e4446-fd59-40ae-849f-de8a1f2bd80e"
   },
   "outputs": [
    {
     "data": {
      "text/html": [
       "<div>\n",
       "<style scoped>\n",
       "    .dataframe tbody tr th:only-of-type {\n",
       "        vertical-align: middle;\n",
       "    }\n",
       "\n",
       "    .dataframe tbody tr th {\n",
       "        vertical-align: top;\n",
       "    }\n",
       "\n",
       "    .dataframe thead th {\n",
       "        text-align: right;\n",
       "    }\n",
       "</style>\n",
       "<table border=\"1\" class=\"dataframe\">\n",
       "  <thead>\n",
       "    <tr style=\"text-align: right;\">\n",
       "      <th></th>\n",
       "      <th>ZAR/USD</th>\n",
       "      <th>Value of Exports (ZAR)</th>\n",
       "    </tr>\n",
       "  </thead>\n",
       "  <tbody>\n",
       "    <tr>\n",
       "      <th>2008M01</th>\n",
       "      <td>7.01</td>\n",
       "      <td>39356.82</td>\n",
       "    </tr>\n",
       "    <tr>\n",
       "      <th>2008M02</th>\n",
       "      <td>7.66</td>\n",
       "      <td>46946.33</td>\n",
       "    </tr>\n",
       "    <tr>\n",
       "      <th>2008M03</th>\n",
       "      <td>7.97</td>\n",
       "      <td>51150.89</td>\n",
       "    </tr>\n",
       "    <tr>\n",
       "      <th>2008M04</th>\n",
       "      <td>7.79</td>\n",
       "      <td>56174.34</td>\n",
       "    </tr>\n",
       "    <tr>\n",
       "      <th>2008M05</th>\n",
       "      <td>7.62</td>\n",
       "      <td>56240.45</td>\n",
       "    </tr>\n",
       "    <tr>\n",
       "      <th>2008M06</th>\n",
       "      <td>7.92</td>\n",
       "      <td>60159.93</td>\n",
       "    </tr>\n",
       "    <tr>\n",
       "      <th>2008M07</th>\n",
       "      <td>7.63</td>\n",
       "      <td>61268.16</td>\n",
       "    </tr>\n",
       "    <tr>\n",
       "      <th>2008M08</th>\n",
       "      <td>7.66</td>\n",
       "      <td>60390.94</td>\n",
       "    </tr>\n",
       "    <tr>\n",
       "      <th>2008M09</th>\n",
       "      <td>8.06</td>\n",
       "      <td>61067.34</td>\n",
       "    </tr>\n",
       "    <tr>\n",
       "      <th>2008M10</th>\n",
       "      <td>9.74</td>\n",
       "      <td>65652.57</td>\n",
       "    </tr>\n",
       "  </tbody>\n",
       "</table>\n",
       "</div>"
      ],
      "text/plain": [
       "         ZAR/USD  Value of Exports (ZAR)\n",
       "2008M01     7.01                39356.82\n",
       "2008M02     7.66                46946.33\n",
       "2008M03     7.97                51150.89\n",
       "2008M04     7.79                56174.34\n",
       "2008M05     7.62                56240.45\n",
       "2008M06     7.92                60159.93\n",
       "2008M07     7.63                61268.16\n",
       "2008M08     7.66                60390.94\n",
       "2008M09     8.06                61067.34\n",
       "2008M10     9.74                65652.57"
      ]
     },
     "execution_count": 5,
     "metadata": {},
     "output_type": "execute_result"
    }
   ],
   "source": [
    "# View the first 10 rows of the DataFrame\n",
    "df.head(10)"
   ]
  },
  {
   "cell_type": "markdown",
   "metadata": {
    "colab_type": "text",
    "id": "aHvAIG6UwGfy"
   },
   "source": [
    "So it looks like we have some monthly data for both the Rand:Dollar exchange rate, and the value of South African exports.   \n",
    "\n",
    "In this case, we will choose the Rand/Dollar exchange rate as our dependent variable and the monthly value of exports (in Rands) as our independent variable - i.e. we are going to use exports as a predictor for currency value.\n",
    "\n",
    "For ease of future reference, let's change our column names to reflect the notation which we'll be following going forward:"
   ]
  },
  {
   "cell_type": "code",
   "execution_count": 6,
   "metadata": {
    "colab": {
     "base_uri": "https://localhost:8080/",
     "height": 204
    },
    "colab_type": "code",
    "id": "MP52b7KVwGfz",
    "outputId": "60d92002-86f1-48ea-8849-b1e91766be19"
   },
   "outputs": [
    {
     "data": {
      "text/html": [
       "<div>\n",
       "<style scoped>\n",
       "    .dataframe tbody tr th:only-of-type {\n",
       "        vertical-align: middle;\n",
       "    }\n",
       "\n",
       "    .dataframe tbody tr th {\n",
       "        vertical-align: top;\n",
       "    }\n",
       "\n",
       "    .dataframe thead th {\n",
       "        text-align: right;\n",
       "    }\n",
       "</style>\n",
       "<table border=\"1\" class=\"dataframe\">\n",
       "  <thead>\n",
       "    <tr style=\"text-align: right;\">\n",
       "      <th></th>\n",
       "      <th>Y</th>\n",
       "      <th>X</th>\n",
       "    </tr>\n",
       "  </thead>\n",
       "  <tbody>\n",
       "    <tr>\n",
       "      <th>2008M01</th>\n",
       "      <td>7.01</td>\n",
       "      <td>39356.82</td>\n",
       "    </tr>\n",
       "    <tr>\n",
       "      <th>2008M02</th>\n",
       "      <td>7.66</td>\n",
       "      <td>46946.33</td>\n",
       "    </tr>\n",
       "    <tr>\n",
       "      <th>2008M03</th>\n",
       "      <td>7.97</td>\n",
       "      <td>51150.89</td>\n",
       "    </tr>\n",
       "    <tr>\n",
       "      <th>2008M04</th>\n",
       "      <td>7.79</td>\n",
       "      <td>56174.34</td>\n",
       "    </tr>\n",
       "    <tr>\n",
       "      <th>2008M05</th>\n",
       "      <td>7.62</td>\n",
       "      <td>56240.45</td>\n",
       "    </tr>\n",
       "  </tbody>\n",
       "</table>\n",
       "</div>"
      ],
      "text/plain": [
       "            Y         X\n",
       "2008M01  7.01  39356.82\n",
       "2008M02  7.66  46946.33\n",
       "2008M03  7.97  51150.89\n",
       "2008M04  7.79  56174.34\n",
       "2008M05  7.62  56240.45"
      ]
     },
     "execution_count": 6,
     "metadata": {},
     "output_type": "execute_result"
    }
   ],
   "source": [
    "df.columns = ['Y', 'X']\n",
    "df.head()"
   ]
  },
  {
   "cell_type": "markdown",
   "metadata": {
    "colab_type": "text",
    "id": "pMIc9cDJwGf6"
   },
   "source": [
    "**Let's create a few plots of the data** using the matplotlib libarary."
   ]
  },
  {
   "cell_type": "code",
   "execution_count": 7,
   "metadata": {
    "colab": {
     "base_uri": "https://localhost:8080/",
     "height": 347
    },
    "colab_type": "code",
    "id": "xXksfFOIwGf8",
    "outputId": "826be2b9-9627-468a-cd30-fb4086d88b44"
   },
   "outputs": [
    {
     "data": {
      "image/png": "[encoded data removed]",
      "text/plain": [
       "<Figure size 432x288 with 1 Axes>"
      ]
     },
     "metadata": {
      "needs_background": "light"
     },
     "output_type": "display_data"
    }
   ],
   "source": [
    "# ZAR/USD over time\n",
    "plt.plot(np.arange(len(df.Y)), df.Y)\n",
    "plt.title(\"ZAR/USD over time\")\n",
    "plt.xlabel(\"Months\")\n",
    "plt.ylabel(\"ZAR/USD\")\n",
    "plt.show()"
   ]
  },
  {
   "cell_type": "code",
   "execution_count": 8,
   "metadata": {
    "colab": {
     "base_uri": "https://localhost:8080/",
     "height": 350
    },
    "colab_type": "code",
    "id": "yKFr1mV3wGgB",
    "outputId": "0f49c577-0e00-461f-abd3-9fd47aa5f838"
   },
   "outputs": [
    {
     "data": {
      "image/png": "[encoded data removed]",
      "text/plain": [
       "<Figure size 432x288 with 1 Axes>"
      ]
     },
     "metadata": {
      "needs_background": "light"
     },
     "output_type": "display_data"
    }
   ],
   "source": [
    "# Value of Exports over time\n",
    "plt.plot(np.arange(len(df.X)), df.X)\n",
    "plt.title(\"Value of Exports over time\")\n",
    "plt.xlabel(\"Months\")\n",
    "plt.ylabel(\"Exports (ZAR, millions)\")\n",
    "plt.show()"
   ]
  },
  {
   "cell_type": "markdown",
   "metadata": {
    "colab_type": "text",
    "id": "ckPCIIKwwGgF"
   },
   "source": [
    "## Advanced plotting\n",
    "Let's try and create something a little more visually appealing than the two plots above.\n",
    "\n",
    "- We'll plot both dependent data series on the same graph;\n",
    "- We'll assign two separate y-axes: one for each series;\n",
    "- We'll display a legend near the top of the plot."
   ]
  },
  {
   "cell_type": "code",
   "execution_count": 9,
   "metadata": {
    "colab": {
     "base_uri": "https://localhost:8080/",
     "height": 364
    },
    "colab_type": "code",
    "id": "pGslddtrwGgG",
    "outputId": "24d6e75b-e092-4967-f346-6d1a57ac65a7"
   },
   "outputs": [
    {
     "data": {
      "image/png": "[encoded data removed]",
      "text/plain": [
       "<Figure size 432x288 with 2 Axes>"
      ]
     },
     "metadata": {
      "needs_background": "light"
     },
     "output_type": "display_data"
    }
   ],
   "source": [
    "rc('mathtext', default='regular')\n",
    "# Create blank figure\n",
    "fig = plt.figure()\n",
    "\n",
    "# Split figure to allow two sets of y axes\n",
    "ax = fig.add_subplot(111)\n",
    "\n",
    "# Plot the first line on its axis\n",
    "ax.plot(np.arange(len(df.Y)), df.Y, '-', label = 'ZAR/USD', color='orange')\n",
    "\n",
    "# Create second y axis and plot second line\n",
    "ax2 = ax.twinx()\n",
    "ax2.plot(np.arange(len(df.X)), df.X, '-', label = 'Exports (ZAR)')\n",
    "\n",
    "# Add legends for each axis\n",
    "ax.legend(loc=2)\n",
    "ax2.legend(loc=9)\n",
    "\n",
    "ax.grid()\n",
    "\n",
    "# Set labels of axes\n",
    "ax.set_xlabel(\"Months\")\n",
    "ax.set_ylabel(\"ZAR/USD\")\n",
    "ax2.set_ylabel(\"Exports (ZAR, millions)\")\n",
    "plt.show()"
   ]
  },
  {
   "cell_type": "markdown",
   "metadata": {
    "colab_type": "text",
    "id": "oe7FkXzVwGgL"
   },
   "source": [
    "# Let's get started with regression\n",
    "So the plots above - although they are easy to interpret - show too many variables. We have our Y, our X, and time (months), but we're just trying to model ZAR/USD as a *function* of Exports.   \n",
    "\n",
    "It's important to note here that we are **not** trying to model the exchange rate as a function of time - that's a whole other [interesting field](https://machinelearningmastery.com/time-series-prediction-lstm-recurrent-neural-networks-python-keras/) but is not within the scope of this train. \n",
    "   \n",
    "Let's try and show the relationship between the two variables using a scatter plot."
   ]
  },
  {
   "cell_type": "code",
   "execution_count": 10,
   "metadata": {
    "colab": {
     "base_uri": "https://localhost:8080/",
     "height": 347
    },
    "colab_type": "code",
    "id": "8NQSSMMKwGgM",
    "outputId": "07bed392-b667-4c6d-8b0b-b15f9a98db39"
   },
   "outputs": [
    {
     "data": {
      "image/png": "[encoded data removed]",
      "text/plain": [
       "<Figure size 432x288 with 1 Axes>"
      ]
     },
     "metadata": {
      "needs_background": "light"
     },
     "output_type": "display_data"
    }
   ],
   "source": [
    "plt.scatter(df['X'], df['Y'])\n",
    "plt.ylabel(\"ZAR/USD\")\n",
    "plt.xlabel(\"Value of Exports (ZAR, millions)\")\n",
    "plt.show()"
   ]
  },
  {
   "cell_type": "markdown",
   "metadata": {
    "colab_type": "text",
    "id": "I-fG1Qd4wGgS"
   },
   "source": [
    "From the plot above, we can see that there possibly exists a linear relationship between the two variables: **Value of Exports** and **ZAR/USD**."
   ]
  },
  {
   "cell_type": "markdown",
   "metadata": {
    "colab_type": "text",
    "id": "XwB6QIM8wGgT"
   },
   "source": [
    "We would like to be able to fit a line to this data such that we can make predictions of Y for new values of X. We would like to calculate values for $a$ and $b$ such that the line represented by $y = a + bx$ lies as close as possible to the points shown in the scatter plot above.\n",
    "\n",
    "## Finding the Best Fit Line\n",
    "Let's say we have estimated some values for $a$ and $b$. We could plug in all of our values of X to find the corresponding values of Y. These *new* values of Y could be compared to the *actual* values of Y to assess the fit of the line. This becomes tedious as the number of data points increases.\n",
    "   \n",
    "Looking at the data, we can make a guess at the values of the slope and intercept of the line. We'll use a rough estimate of the slope as $\\frac{rise}{run} = \\frac{16}{80000} = 0.0002$. For the intercept, we'll just take a guess and call it $-3$.   \n",
    "   \n",
    "Let's plot a line with values of $a = -3$, and $b = 0.0002$:   \n",
    "   \n",
    "First, we will need to generate some values of y using the following formula:\n",
    "   \n",
    "$$\\hat{y}_i = a + bx_i$$   \n",
    "   "
   ]
  },
  {
   "cell_type": "code",
   "execution_count": 13,
   "metadata": {
    "colab": {
     "base_uri": "https://localhost:8080/",
     "height": 347
    },
    "colab_type": "code",
    "id": "YtFcdsX2wGgV",
    "outputId": "da09c99b-0b80-4374-8fb6-a1b22774b671"
   },
   "outputs": [
    {
     "data": {
      "image/png": "[encoded data removed]",
      "text/plain": [
       "<Figure size 432x288 with 1 Axes>"
      ]
     },
     "metadata": {
      "needs_background": "light"
     },
     "output_type": "display_data"
    }
   ],
   "source": [
    "# Define a function to generate values of y from a list of x, \n",
    "# Given parameters a and b\n",
    "\n",
    "def gen_y(x_list, a, b):\n",
    "    y_gen = []\n",
    "    for x_i in x_list:\n",
    "        y_i = a + b*x_i\n",
    "        y_gen.append(y_i)\n",
    "    \n",
    "    return(y_gen)\n",
    "\n",
    "# Generate the values by invoking the 'gen_y' function\n",
    "y_gen = gen_y(df.X, -3, 0.0002)\n",
    "\n",
    "# Plot the results\n",
    "plt.scatter(df.X, df.Y)  # Plot the original data\n",
    "plt.plot(df.X, y_gen, color='red')  # Plot the line connecting the generated y-values\n",
    "plt.ylabel(\"ZAR/USD\")\n",
    "plt.xlabel(\"Value of Exports (ZAR, millions)\")\n",
    "plt.show()"
   ]
  },
  {
   "cell_type": "markdown",
   "metadata": {
    "colab_type": "text",
    "id": "xNbwqEidwGgb"
   },
   "source": [
    "At first glance, it looks like the fit of this line is not too bad!   \n",
    "   \n",
    "**Let's check the calculted fit of the line** by measuring how far the true y-values of each point are from their corresponding y-value on the line.   \n",
    "   \n",
    "We'll use the equation below to calculate the error of each generated value of y:   \n",
    "   \n",
    "$$e_i = y_i - \\hat{y}_i$$   \n",
    "   "
   ]
  },
  {
   "cell_type": "code",
   "execution_count": 16,
   "metadata": {
    "colab": {
     "base_uri": "https://localhost:8080/",
     "height": 255
    },
    "colab_type": "code",
    "id": "HJvc499VwGgc",
    "outputId": "1e166477-38b2-42d8-a816-d5020d16d15e"
   },
   "outputs": [
    {
     "data": {
      "text/plain": [
       "array([ 2.14,  1.27,  0.74, -0.44, -0.63, -1.11, -1.62, -1.42, -1.15,\n",
       "       -0.39,  2.32,  3.26,  5.65,  4.2 ,  3.02,  3.87,  3.09,  2.44,\n",
       "        2.06,  2.96,  1.41,  1.66,  1.35,  1.41,  2.02,  1.38, -0.94,\n",
       "        0.57,  0.09, -1.57, -1.88, -0.61, -1.77, -2.07, -2.46, -2.18,\n",
       "       -0.2 , -1.42, -3.38, -2.09, -2.53, -3.86, -3.11, -3.54, -4.79,\n",
       "       -2.91, -4.27, -2.78, -0.94, -2.52, -3.34, -1.17, -3.04, -2.84,\n",
       "       -2.85, -2.89, -1.77, -2.19, -3.56, -1.8 , -0.61, -2.46, -2.4 ,\n",
       "       -3.03, -2.76, -2.41, -4.49, -3.14, -2.4 , -4.07, -4.11, -2.06,\n",
       "       -1.83, -3.02, -2.36, -1.97, -2.41, -2.59, -3.69, -2.14, -4.23,\n",
       "       -3.6 , -2.84, -3.23,  1.03, -0.99, -3.39, -1.7 , -2.68, -2.67,\n",
       "       -3.01, -1.51, -1.58, -0.49, -1.53,  0.49,  5.18,  1.57,  0.06,\n",
       "       -0.37, -1.47, -2.13, -0.72, -1.19, -2.83, -0.78, -2.98, -1.86,\n",
       "        0.5 , -1.24, -4.3 , -1.69, -4.25, -4.49, -2.41, -4.41, -4.27,\n",
       "       -4.13, -6.18, -4.61])"
      ]
     },
     "execution_count": 16,
     "metadata": {},
     "output_type": "execute_result"
    }
   ],
   "source": [
    "errors = np.array(df.Y - y_gen)\n",
    "np.round(errors, 2)"
   ]
  },
  {
   "cell_type": "markdown",
   "metadata": {
    "colab_type": "text",
    "id": "xBo24PnSwGgi"
   },
   "source": [
    "When looking at the errors, we see that some of our predictions are off by almost R7!\n",
    "\n",
    "Let's take a look at a distribution of our errors (using a histogram)."
   ]
  },
  {
   "cell_type": "code",
   "execution_count": 19,
   "metadata": {
    "colab": {
     "base_uri": "https://localhost:8080/",
     "height": 347
    },
    "colab_type": "code",
    "id": "kEWqVKdbwGgj",
    "outputId": "f8bd37c6-09ca-4a27-fb05-da91934fd3e2"
   },
   "outputs": [
    {
     "data": {
      "image/png": "[encoded data removed]",
      "text/plain": [
       "<Figure size 432x288 with 1 Axes>"
      ]
     },
     "metadata": {
      "needs_background": "light"
     },
     "output_type": "display_data"
    }
   ],
   "source": [
    "plt.hist(errors)\n",
    "plt.show()"
   ]
  },
  {
   "cell_type": "markdown",
   "metadata": {
    "colab_type": "text",
    "id": "rMADYsh9wGgp"
   },
   "source": [
    "In addition to having some very large errors, we can also see that most of the errors are positive numbers. Ideally, we want our errors to be evenly distributed either side of zero - we want our line to best fit the data, i.e. no bias.\n",
    "   \n",
    "We can measure the overall error of the fit by calculating the **Residual Sum of Squares**:\n",
    "   \n",
    "$$RSS = \\sum_{i=1}^n(y_i-\\hat{y}_i)^2$$\n",
    "\n",
    "The RSS finds the difference between the y-value of each data point and our estimated line (which may be either negative or positive), squares the difference, and then adds all the differences up. In other words, it's the sum of the squares of all the errors we calculated before."
   ]
  },
  {
   "cell_type": "code",
   "execution_count": 20,
   "metadata": {
    "colab": {
     "base_uri": "https://localhost:8080/",
     "height": 34
    },
    "colab_type": "code",
    "id": "wJO0XX5vwGgr",
    "outputId": "0bfa2fa5-cf60-47a5-da04-67c09bf5ee2b"
   },
   "outputs": [
    {
     "name": "stdout",
     "output_type": "stream",
     "text": [
      "Residual sum of squares: 867.1710481532764\n"
     ]
    }
   ],
   "source": [
    "print(\"Residual sum of squares:\", (errors ** 2).sum())"
   ]
  },
  {
   "cell_type": "markdown",
   "metadata": {
    "colab_type": "text",
    "id": "ECa8RFr-wGg4"
   },
   "source": [
    "## Least Squares Method\n",
    "Least Squares is another method that allows us to find the line of best fit while enforcing the constraint of minimising the residuals. More specifically, the **Least Squares Criterion** states that the sum of the squares of the residuals should be minimized, i.e.   \n",
    "$$Q = \\sum_{i=1}^n(y_i-\\hat{y}_i)^2$$\n",
    "\n",
    "The formulae for the intercept, $a$, and the slope, $b$, are determined by minimizing the equation for the sum of the squared prediction errors:   \n",
    "$$Q = \\sum_{i=1}^n(y_i-(a+bx_i))^2$$\n",
    "\n",
    "Optimal values for $a$ and $b$ are found by differentiating $Q$ with respect to $a$ and $b$, setting both equal to 0 and then solving for $a$ and $b$.   \n",
    "   \n",
    "We won't go into the [derivation process](http://seismo.berkeley.edu/~kirchner/eps_120/Toolkits/Toolkit_10.pdf) here, but the equations for $a$ and $b$ are:   \n",
    "   \n",
    "$$b = \\frac{\\sum_{i=1}^n(x_i-\\bar{x})(y_i-\\bar{y})}{\\sum_{i=1}^n(x_i-\\bar{x})^2}$$   \n",
    "   \n",
    "and:   \n",
    "   \n",
    "$$a = \\bar{y} - b\\bar{x}$$\n",
    "\n",
    "where $\\bar{y}$ and $\\bar{x}$ are the mean values of $y$ and $x$ in our dataset, respectively.\n",
    "   \n",
    "**Let's calculate these values in Python!** We'll call _a_ the intercept and _b_ the slope."
   ]
  },
  {
   "cell_type": "code",
   "execution_count": 13,
   "metadata": {
    "colab": {
     "base_uri": "https://localhost:8080/",
     "height": 51
    },
    "colab_type": "code",
    "id": "lEW5FT63wGg5",
    "outputId": "6ee90048-a03b-4f80-cb8b-61bd90c30689"
   },
   "outputs": [
    {
     "name": "stdout",
     "output_type": "stream",
     "text": [
      "Slope = 0.000113507257658843\n",
      "Intercept = 1.8448114670426463\n"
     ]
    }
   ],
   "source": [
    "X = df.X.values\n",
    "Y = df.Y.values\n",
    "\n",
    "# Calculate x bar, y bar\n",
    "x_bar = np.mean(X)\n",
    "y_bar = np.mean(Y)\n",
    "\n",
    "# Calculate slope\n",
    "b = sum( (X-x_bar)*(Y-y_bar) ) / sum( (X-x_bar)**2 )\n",
    "\n",
    "# Calculate intercept\n",
    "a = y_bar - b*x_bar\n",
    "\n",
    "print(\"Slope = \" + str(b))\n",
    "print(\"Intercept = \" + str(a))"
   ]
  },
  {
   "cell_type": "markdown",
   "metadata": {
    "colab_type": "text",
    "id": "iDf2j-BEHcFO"
   },
   "source": [
    "Now we'll plot the line we've just calculated the coefficients for."
   ]
  },
  {
   "cell_type": "code",
   "execution_count": 14,
   "metadata": {
    "colab": {
     "base_uri": "https://localhost:8080/",
     "height": 347
    },
    "colab_type": "code",
    "id": "zKulmV2YwGg-",
    "outputId": "8c15db9d-5547-4707-8262-2532d63d41b0"
   },
   "outputs": [
    {
     "data": {
      "image/png": "[encoded data removed]",
      "text/plain": [
       "<Figure size 432x288 with 1 Axes>"
      ]
     },
     "metadata": {
      "needs_background": "light"
     },
     "output_type": "display_data"
    }
   ],
   "source": [
    "# Use the function we created earlier:\n",
    "# it generates y-values for given x-values based on parameters a, b\n",
    "y_gen2 = gen_y(df.X, a, b)\n",
    "\n",
    "plt.scatter(df.X, df.Y)\n",
    "plt.plot(df.X, y_gen2, color='red')\n",
    "plt.show()"
   ]
  },
  {
   "cell_type": "markdown",
   "metadata": {
    "colab_type": "text",
    "id": "2_4lAouVHcFU"
   },
   "source": [
    "In a list called ```errors2```, we'll store the new error values."
   ]
  },
  {
   "cell_type": "code",
   "execution_count": 15,
   "metadata": {
    "colab": {
     "base_uri": "https://localhost:8080/",
     "height": 187
    },
    "colab_type": "code",
    "id": "BccHzCykwGhB",
    "outputId": "5798343b-6233-4c64-a168-1be90a05df82"
   },
   "outputs": [
    {
     "name": "stdout",
     "output_type": "stream",
     "text": [
      "[-0.7  -0.49 -0.32  0.43  0.61  0.75  1.17  1.04  0.72 -0.44 -2.14 -2.62\n",
      " -3.94 -3.16 -2.69 -2.54 -1.83 -1.32 -1.06 -1.57 -0.51 -0.63 -0.47 -0.49\n",
      " -0.82 -0.55  0.87  0.04  0.19  1.14  1.36  0.74  1.47  1.74  1.93  1.82\n",
      "  0.67  1.25  2.47  1.82  2.01  2.8   2.37  2.5   2.99  1.75  2.46  1.58\n",
      "  0.62  1.66  2.15  0.82  1.75  1.53  1.59  1.61  0.98  1.06  1.77  0.83\n",
      "  0.09  1.1   0.93  1.32  1.06  0.58  1.82  0.96  0.59  1.57  1.47  0.23\n",
      " -0.12  0.51  0.24  0.1   0.41  0.4   1.01  0.15  1.2   0.8   0.36  0.42\n",
      " -2.04 -0.9   0.25 -0.68 -0.11 -0.26 -0.13 -1.19 -1.44 -2.02 -1.69 -3.21\n",
      " -6.47 -4.16 -3.14 -2.56 -2.27 -1.77 -2.27 -1.73 -0.91 -2.05 -0.78 -1.38\n",
      " -2.59 -1.49  0.39 -1.33  0.21  0.51 -0.76  0.33  0.28 -0.04  0.97  0.44]\n"
     ]
    }
   ],
   "source": [
    "errors2 = np.array(y_gen2 - df.Y)\n",
    "print(np.round(errors2, 2))"
   ]
  },
  {
   "cell_type": "markdown",
   "metadata": {
    "colab_type": "text",
    "id": "v84_RPboHcFg"
   },
   "source": [
    "Finally, let's plot the errors on a histogram again."
   ]
  },
  {
   "cell_type": "code",
   "execution_count": 16,
   "metadata": {
    "colab": {
     "base_uri": "https://localhost:8080/",
     "height": 347
    },
    "colab_type": "code",
    "id": "kTsBNqTxwGhF",
    "outputId": "bb2f17b8-ef3d-49d3-d453-4ed0456a7082"
   },
   "outputs": [
    {
     "data": {
      "image/png": "[encoded data removed]",
      "text/plain": [
       "<Figure size 432x288 with 1 Axes>"
      ]
     },
     "metadata": {
      "needs_background": "light"
     },
     "output_type": "display_data"
    }
   ],
   "source": [
    "plt.hist(errors2)\n",
    "plt.show()"
   ]
  },
  {
   "cell_type": "code",
   "execution_count": 17,
   "metadata": {
    "colab": {
     "base_uri": "https://localhost:8080/",
     "height": 34
    },
    "colab_type": "code",
    "id": "SVChl7XuwGhJ",
    "outputId": "bcc8168d-fcb6-4068-98b4-651faa691646"
   },
   "outputs": [
    {
     "name": "stdout",
     "output_type": "stream",
     "text": [
      "Residual sum of squares: 321.45716655257655\n"
     ]
    }
   ],
   "source": [
    "print(\"Residual sum of squares:\", (errors2 ** 2).sum())"
   ]
  },
  {
   "cell_type": "markdown",
   "metadata": {
    "colab_type": "text",
    "id": "QONiUhl0wGhN"
   },
   "source": [
    "Here we can see our RSS has improved from ~867 down to ~321.  \n",
    "Furthermore, if we calculate the sum of the errors we find that the value is close to 0."
   ]
  },
  {
   "cell_type": "code",
   "execution_count": 18,
   "metadata": {
    "colab": {
     "base_uri": "https://localhost:8080/",
     "height": 34
    },
    "colab_type": "code",
    "id": "x5GfJNuswGhO",
    "outputId": "41687523-6b29-4e94-bc7f-aca5b0931aea"
   },
   "outputs": [
    {
     "data": {
      "text/plain": [
       "-0.0"
      ]
     },
     "execution_count": 18,
     "metadata": {},
     "output_type": "execute_result"
    }
   ],
   "source": [
    "# Round off to 11 decimal places\n",
    "np.round(errors2.sum(),11)"
   ]
  },
  {
   "cell_type": "markdown",
   "metadata": {
    "colab_type": "text",
    "id": "6kIFmZK5wGhR"
   },
   "source": [
    "----\n",
    "Intuitively, this should make sense as it is an indication that the sum of the positive errors is equal to the sum of the negative errors. The line fits in the 'middle' of the data."
   ]
  },
  {
   "cell_type": "markdown",
   "metadata": {
    "colab_type": "text",
    "id": "-wk8Z3dTu8LR"
   },
   "source": [
    "## Linear Regression in Sklearn\n",
    "   \n",
    "Now that you understand how least squares linear regression works, let's implement it using sklearn.   \n",
    "\n",
    "We'll start by loading the LinearRegression library."
   ]
  },
  {
   "cell_type": "code",
   "execution_count": 25,
   "metadata": {
    "colab": {},
    "colab_type": "code",
    "id": "9YY-Sw9du8LS"
   },
   "outputs": [],
   "source": [
    "from sklearn.linear_model import LinearRegression"
   ]
  },
  {
   "cell_type": "markdown",
   "metadata": {
    "colab_type": "text",
    "id": "i2erUrQMu8LW"
   },
   "source": [
    "We can take a peak under the hood by using the Python help (`?`) function. This returns the documentation of the required parameters and the attributes of any function or object.   \n",
    "\n",
    "We're going to need to create a `LinearRegression()` object, so let's first take a look at the documentation for that object:"
   ]
  },
  {
   "cell_type": "code",
   "execution_count": 26,
   "metadata": {
    "colab": {},
    "colab_type": "code",
    "id": "iLGo2jV4u8LW"
   },
   "outputs": [],
   "source": [
    "LinearRegression?"
   ]
  },
  {
   "cell_type": "markdown",
   "metadata": {
    "colab_type": "text",
    "id": "Q6t6n75Pu8Lb"
   },
   "source": [
    "Let's create a `LinearRegression()` object with all the default parameters."
   ]
  },
  {
   "cell_type": "code",
   "execution_count": 27,
   "metadata": {
    "colab": {},
    "colab_type": "code",
    "id": "Tq8qgFBIu8Lc"
   },
   "outputs": [],
   "source": [
    "lm = LinearRegression()"
   ]
  },
  {
   "cell_type": "markdown",
   "metadata": {},
   "source": [
    "At this stage, all we have done is initialise a model of the form: $y = a + bx$ \n",
    "\n",
    "But we haven't _fitted the model_ i.e. used the data to calculate the model parameters $a$ and $b$."
   ]
  },
  {
   "cell_type": "markdown",
   "metadata": {
    "colab_type": "text",
    "id": "YkxS7fQpu8Lg"
   },
   "source": [
    "### Fitting the linear model\n",
    "\n",
    "With the object created, we will then need to fit the model to our data. This is done using the `.fit()` function."
   ]
  },
  {
   "cell_type": "code",
   "execution_count": 28,
   "metadata": {
    "colab": {},
    "colab_type": "code",
    "id": "oXtcYcqMu8Lg"
   },
   "outputs": [],
   "source": [
    "lm.fit?"
   ]
  },
  {
   "cell_type": "markdown",
   "metadata": {
    "colab_type": "text",
    "id": "DoLCs9Nau8Lk"
   },
   "source": [
    "We can see that the `.fit()` function requires two parameters (`X` and `y`), with an optional third parameter, `sample_weight`.   \n",
    "\n",
    "The `sample_weight` parameter would be useful in situations where the observations in our data have unequal errors - think weight vs height of university students where some students were weighed with an older analogue scale and others were weighed with a new digital scale.   \n",
    "\n",
    "We have no reason to believe that any of our data is any more, or any less trustworthy so we'll leave out the optional weights parameter."
   ]
  },
  {
   "cell_type": "code",
   "execution_count": 29,
   "metadata": {},
   "outputs": [
    {
     "name": "stderr",
     "output_type": "stream",
     "text": [
      "<ipython-input-29-12af75401e57>:1: FutureWarning: Support for multi-dimensional indexing (e.g. `obj[:, None]`) is deprecated and will be removed in a future version.  Convert to a numpy array before indexing instead.\n",
      "  X = df.X[:,np.newaxis] # convert shape of X from (n,) to (n,1)\n"
     ]
    }
   ],
   "source": [
    "X = df.X[:,np.newaxis] # convert shape of X from (n,) to (n,1)"
   ]
  },
  {
   "cell_type": "code",
   "execution_count": 30,
   "metadata": {
    "colab": {
     "base_uri": "https://localhost:8080/",
     "height": 34
    },
    "colab_type": "code",
    "executionInfo": {
     "elapsed": 982,
     "status": "ok",
     "timestamp": 1543231222258,
     "user": {
      "displayName": "James Leslie",
      "photoUrl": "",
      "userId": "09685684001979352480"
     },
     "user_tz": -120
    },
    "id": "NWSWzCjau8Ll",
    "outputId": "0d785e24-488b-4c0c-fd77-12b42e50c798"
   },
   "outputs": [
    {
     "data": {
      "text/plain": [
       "LinearRegression()"
      ]
     },
     "execution_count": 30,
     "metadata": {},
     "output_type": "execute_result"
    }
   ],
   "source": [
    "lm.fit(X, df.Y)"
   ]
  },
  {
   "cell_type": "markdown",
   "metadata": {},
   "source": [
    "If needed, the model parameters found by the `.fit()` function can be obtained as follows: "
   ]
  },
  {
   "cell_type": "code",
   "execution_count": 31,
   "metadata": {
    "colab": {},
    "colab_type": "code",
    "id": "s0MyKq7Au8Lq"
   },
   "outputs": [],
   "source": [
    "a = float(lm.intercept_)"
   ]
  },
  {
   "cell_type": "code",
   "execution_count": 32,
   "metadata": {
    "colab": {},
    "colab_type": "code",
    "id": "OqKo5zw9u8Lt"
   },
   "outputs": [],
   "source": [
    "b = lm.coef_"
   ]
  },
  {
   "cell_type": "code",
   "execution_count": 33,
   "metadata": {
    "colab": {
     "base_uri": "https://localhost:8080/",
     "height": 51
    },
    "colab_type": "code",
    "executionInfo": {
     "elapsed": 706,
     "status": "ok",
     "timestamp": 1543231224361,
     "user": {
      "displayName": "James Leslie",
      "photoUrl": "",
      "userId": "09685684001979352480"
     },
     "user_tz": -120
    },
    "id": "UA8B1Fqhu8Lw",
    "outputId": "eef4af08-67f2-4b30-8058-7980dbe538e4"
   },
   "outputs": [
    {
     "name": "stdout",
     "output_type": "stream",
     "text": [
      "Slope:\t\t [0.00011351]\n",
      "Intercept:\t 1.8448114670426445\n"
     ]
    }
   ],
   "source": [
    "print(\"Slope:\\t\\t\", b)\n",
    "print(\"Intercept:\\t\", float(a))"
   ]
  },
  {
   "cell_type": "markdown",
   "metadata": {},
   "source": [
    "### Getting model predictions"
   ]
  },
  {
   "cell_type": "markdown",
   "metadata": {},
   "source": [
    "To obtain $y$ values from our linear regression model we use the `.predict()` function. Given an array of $x$ values, this function evaluates the fitted model at those $x$ values and returns the corresponding $y$ values. Note that in this case, the `.predict()` function does exactly what the `gen_y()` function we created earlier does. We will explore the concept of prediction in depth in later trains."
   ]
  },
  {
   "cell_type": "code",
   "execution_count": 35,
   "metadata": {},
   "outputs": [],
   "source": [
    "# generate values of y from x, using the linear model\n",
    "gen_y = lm.predict(X)"
   ]
  },
  {
   "cell_type": "code",
   "execution_count": 36,
   "metadata": {
    "colab": {
     "base_uri": "https://localhost:8080/",
     "height": 347
    },
    "colab_type": "code",
    "executionInfo": {
     "elapsed": 1163,
     "status": "ok",
     "timestamp": 1543231226121,
     "user": {
      "displayName": "James Leslie",
      "photoUrl": "",
      "userId": "09685684001979352480"
     },
     "user_tz": -120
    },
    "id": "cv-sH4e9u8L3",
    "outputId": "db5ee1b0-6eb6-4336-cf4c-a97c7ded76e9"
   },
   "outputs": [
    {
     "data": {
      "image/png": "[encoded data removed]",
      "text/plain": [
       "<Figure size 432x288 with 1 Axes>"
      ]
     },
     "metadata": {
      "needs_background": "light"
     },
     "output_type": "display_data"
    }
   ],
   "source": [
    "# plot the results\n",
    "plt.scatter(X, df.Y)  # plot the original data\n",
    "plt.plot(X, gen_y, color='red')  # plot the line connecting the generated y-values\n",
    "plt.ylabel(\"ZAR/USD\")\n",
    "plt.xlabel(\"Value of Exports (ZAR, millions)\")\n",
    "plt.show()"
   ]
  },
  {
   "cell_type": "markdown",
   "metadata": {
    "colab_type": "text",
    "id": "O20Xnle5u8L8"
   },
   "source": [
    "## Assessing the model accuracy\n",
    "We can measure the overall error of the fit by calculating the **Residual Sum of Squares**:\n",
    "   \n",
    "$$RSS = \\sum_{i=1}^n(y_i-\\hat{y}_i)^2$$"
   ]
  },
  {
   "cell_type": "code",
   "execution_count": 39,
   "metadata": {
    "colab": {
     "base_uri": "https://localhost:8080/",
     "height": 34
    },
    "colab_type": "code",
    "executionInfo": {
     "elapsed": 1164,
     "status": "ok",
     "timestamp": 1543231228752,
     "user": {
      "displayName": "James Leslie",
      "photoUrl": "",
      "userId": "09685684001979352480"
     },
     "user_tz": -120
    },
    "id": "GS5syqQyu8L_",
    "outputId": "6325eaad-b004-4538-ca99-4235c91e2c0b"
   },
   "outputs": [
    {
     "name": "stdout",
     "output_type": "stream",
     "text": [
      "Residual sum of squares: 321.45716655257655\n"
     ]
    }
   ],
   "source": [
    "print(\"Residual sum of squares:\", ((gen_y - df.Y) ** 2).sum())"
   ]
  },
  {
   "cell_type": "markdown",
   "metadata": {
    "colab_type": "text",
    "id": "x_tRXHCEu8ME"
   },
   "source": [
    "### Sklearn error metrics\n",
    "Sklearn also has implementations of common error metrics which will make things easier for us to assess the fit of our model.   \n",
    "\n",
    "In addition to RSS, there are some other metrics we can use:\n",
    "\n",
    "**Mean Squared Error:**\n",
    "$$MSE = \\frac{RSS}{n}$$   \n",
    "$$MSE = \\frac{1}{n}\\sum_{i=1}^n(y_i-\\hat{y}_i)^2$$   \n",
    "   \n",
    "**R squared:**\n",
    "$$R^2 = 1 - \\frac{RSS}{TSS}$$   \n",
    "$$R^2 = 1 - \\frac{\\sum(y_i-\\hat{y}_i)^2}{\\sum(y_i-\\bar{y})^2}$$\n",
    "\n",
    "We can compute these metrics using Sklearn as follows:"
   ]
  },
  {
   "cell_type": "code",
   "execution_count": 29,
   "metadata": {
    "colab": {},
    "colab_type": "code",
    "id": "f7r527xgu8MF"
   },
   "outputs": [],
   "source": [
    "from sklearn import metrics"
   ]
  },
  {
   "cell_type": "code",
   "execution_count": 30,
   "metadata": {
    "colab": {
     "base_uri": "https://localhost:8080/",
     "height": 34
    },
    "colab_type": "code",
    "executionInfo": {
     "elapsed": 691,
     "status": "ok",
     "timestamp": 1543231232530,
     "user": {
      "displayName": "James Leslie",
      "photoUrl": "",
      "userId": "09685684001979352480"
     },
     "user_tz": -120
    },
    "id": "Ubm9yflgu8MJ",
    "outputId": "c5006429-fd25-4b4c-d603-c587b3a3111f"
   },
   "outputs": [
    {
     "name": "stdout",
     "output_type": "stream",
     "text": [
      "MSE: 2.678809721271471\n"
     ]
    }
   ],
   "source": [
    "print('MSE:', metrics.mean_squared_error(df.Y, gen_y))"
   ]
  },
  {
   "cell_type": "code",
   "execution_count": 31,
   "metadata": {},
   "outputs": [
    {
     "name": "stdout",
     "output_type": "stream",
     "text": [
      "Residual sum of squares: 321.45716655257655\n"
     ]
    }
   ],
   "source": [
    "# Multiple MSE by N to get RSS\n",
    "print(\"Residual sum of squares:\", metrics.mean_squared_error(df.Y, gen_y)*len(X)) "
   ]
  },
  {
   "cell_type": "code",
   "execution_count": 32,
   "metadata": {
    "colab": {
     "base_uri": "https://localhost:8080/",
     "height": 34
    },
    "colab_type": "code",
    "executionInfo": {
     "elapsed": 724,
     "status": "ok",
     "timestamp": 1543231233821,
     "user": {
      "displayName": "James Leslie",
      "photoUrl": "",
      "userId": "09685684001979352480"
     },
     "user_tz": -120
    },
    "id": "pmRFGikKu8MN",
    "outputId": "1247ee5c-e85f-475a-95ce-1fb5a19eff2c"
   },
   "outputs": [
    {
     "name": "stdout",
     "output_type": "stream",
     "text": [
      "R_squared: 0.6158417476896207\n"
     ]
    }
   ],
   "source": [
    "print('R_squared:', metrics.r2_score(df.Y, gen_y))"
   ]
  },
  {
   "cell_type": "markdown",
   "metadata": {
    "colab_type": "text",
    "id": "KSRTtShMHcFw"
   },
   "source": [
    "## Conclusion\n",
    "\n",
    "We learnt how to:\n",
    "* Create line plots of variables over time;\n",
    "* Create a scatter plot of two continuous variables;   \n",
    "* Use the method of least squares to fit a regression line to some data;   \n",
    "* Assess the fit of a regression line using the residual sum of squares; \n",
    "* Use scikit-learn to perform ordinary least squares regression.   \n",
    "* Use scikit-learn to assess model performance using metrics such as $MSE$ and $R^2$.  \n",
    "\n",
    "In future trains, we will look at methods for improving the predictive accuracy of our model."
   ]
  },
  {
   "cell_type": "markdown",
   "metadata": {
    "colab_type": "text",
    "id": "TvY0kHWiHcFx"
   },
   "source": [
    "## Appendix\n",
    "\n",
    "Links to additional resources to help with the understanding of concepts presented in the train:\n",
    "\n",
    "- [Helpful video on the calculations behind the coefficients](https://www.youtube.com/watch?v=9MEmdixNMZI)"
   ]
  }
 ],
 "metadata": {
  "colab": {
   "collapsed_sections": [],
   "name": "1.1_least_squares.ipynb",
   "provenance": [],
   "toc_visible": true
  },
  "kernelspec": {
   "display_name": "Python 3",
   "language": "python",
   "name": "python3"
  },
  "language_info": {
   "codemirror_mode": {
    "name": "ipython",
    "version": 3
   },
   "file_extension": ".py",
   "mimetype": "text/x-python",
   "name": "python",
   "nbconvert_exporter": "python",
   "pygments_lexer": "ipython3",
   "version": "3.8.5"
  }
 },
 "nbformat": 4,
 "nbformat_minor": 4
}
